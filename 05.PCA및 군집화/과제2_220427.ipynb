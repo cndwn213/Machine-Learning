{
  "nbformat": 4,
  "nbformat_minor": 0,
  "metadata": {
    "colab": {
      "name": "과제2_220427.ipynb",
      "provenance": [],
      "collapsed_sections": []
    },
    "kernelspec": {
      "name": "python3",
      "display_name": "Python 3"
    },
    "language_info": {
      "name": "python"
    }
  },
  "cells": [
    {
      "cell_type": "markdown",
      "source": [
        "### 2. 유방암 데이터 - 차원축소, 군집화\n",
        "  - 10, 5, 2 차원 차원 축소\n",
        "  - 원본과 차원축소한 데이터의 분류(앙상블) 정확도 측정\n",
        "  - 군집화하기\n",
        "  - 2차원으로 축소한것은 시각화(오리지널, 군집 데이터)\n"
      ],
      "metadata": {
        "id": "d1bAJ7D95Hkw"
      }
    },
    {
      "cell_type": "code",
      "execution_count": 13,
      "metadata": {
        "colab": {
          "base_uri": "https://localhost:8080/"
        },
        "id": "gSOHM0F65ERM",
        "outputId": "848c5a17-d0e2-47fd-9197-b65b531e2c1d"
      },
      "outputs": [
        {
          "output_type": "execute_result",
          "data": {
            "text/plain": [
              "array(['malignant', 'benign'], dtype='<U9')"
            ]
          },
          "metadata": {},
          "execution_count": 13
        }
      ],
      "source": [
        "import numpy as np\n",
        "import pandas as pd\n",
        "import seaborn as sns\n",
        "import matplotlib.pyplot as plt\n",
        "from sklearn.datasets import load_breast_cancer\n",
        "cancer = load_breast_cancer()"
      ]
    },
    {
      "cell_type": "code",
      "source": [
        "from sklearn.preprocessing import StandardScaler\n",
        "from sklearn.model_selection import train_test_split\n",
        "from sklearn.decomposition import PCA\n",
        "cancer_std = StandardScaler().fit_transform(cancer.data)\n",
        "df = pd.DataFrame(\n",
        "    cancer_std, columns = cancer.feature_names\n",
        ")\n",
        "df[\"target\"] = cancer.target"
      ],
      "metadata": {
        "id": "N079ADjo5VZC"
      },
      "execution_count": 14,
      "outputs": []
    },
    {
      "cell_type": "code",
      "source": [
        "pca10 = PCA(n_components=10)\n",
        "cancer_pca10 = pca10.fit_transform(cancer_std)\n",
        "print(cancer_pca10[:3])\n",
        "print(pca10.explained_variance_ratio_.sum())"
      ],
      "metadata": {
        "colab": {
          "base_uri": "https://localhost:8080/"
        },
        "id": "t32uTUfT6Rw2",
        "outputId": "dc709a8d-633c-4e54-b9af-57a12e06eef9"
      },
      "execution_count": 16,
      "outputs": [
        {
          "output_type": "stream",
          "name": "stdout",
          "text": [
            "[[ 9.19283683  1.94858307 -1.12316616  3.63373092 -1.19511013  1.41142457\n",
            "   2.15937215 -0.39840556 -0.15709609 -0.87741577]\n",
            " [ 2.3878018  -3.76817174 -0.52929269  1.11826386  0.62177497  0.02865634\n",
            "   0.01335766  0.24098902 -0.7119085   1.10699964]\n",
            " [ 5.73389628 -1.0751738  -0.55174759  0.91208269 -0.17708591  0.54145222\n",
            "  -0.66816482  0.09737472  0.02408063  0.45426521]]\n",
            "0.9515688143329056\n"
          ]
        }
      ]
    },
    {
      "cell_type": "code",
      "source": [
        "pca5 = PCA(n_components=5)\n",
        "cancer_pca5 = pca5.fit_transform(cancer_std)\n",
        "print(cancer_pca5[:3])\n",
        "print(pca5.explained_variance_ratio_.sum())"
      ],
      "metadata": {
        "colab": {
          "base_uri": "https://localhost:8080/"
        },
        "id": "Uew8fuCd6Xsa",
        "outputId": "2ce7cb30-99c0-40c0-a756-523f1c83f2f9"
      },
      "execution_count": 17,
      "outputs": [
        {
          "output_type": "stream",
          "name": "stdout",
          "text": [
            "[[ 9.19283683  1.94858307 -1.123166    3.63372978 -1.1951106 ]\n",
            " [ 2.3878018  -3.76817175 -0.52929298  1.11826645  0.62177558]\n",
            " [ 5.73389628 -1.07517379 -0.55174729  0.91208014 -0.17708623]]\n",
            "0.9515688143329056\n"
          ]
        }
      ]
    },
    {
      "cell_type": "code",
      "source": [
        "pca2 = PCA(n_components=2)\n",
        "cancer_pca2 = pca2.fit_transform(cancer_std)\n",
        "print(cancer_pca2[:3])\n",
        "print(pca2.explained_variance_ratio_.sum())"
      ],
      "metadata": {
        "colab": {
          "base_uri": "https://localhost:8080/"
        },
        "id": "mwXqK6n97V7j",
        "outputId": "fccf933f-0c64-4f46-c7c1-33bc40240c84"
      },
      "execution_count": 22,
      "outputs": [
        {
          "output_type": "stream",
          "name": "stdout",
          "text": [
            "[[ 9.19283683  1.94858307]\n",
            " [ 2.3878018  -3.76817174]\n",
            " [ 5.73389628 -1.0751738 ]]\n",
            "0.6324320765155946\n",
            "569\n"
          ]
        }
      ]
    },
    {
      "cell_type": "code",
      "source": [
        "pca2_df = pd.DataFrame(cancer_pca2)\n",
        "pca5_df = pd.DataFrame(cancer_pca5)\n",
        "pca10_df = pd.DataFrame(cancer_pca10)"
      ],
      "metadata": {
        "id": "1ko3qYK67jAy"
      },
      "execution_count": 25,
      "outputs": []
    },
    {
      "cell_type": "code",
      "source": [
        "from sklearn.model_selection import train_test_split\n",
        "from sklearn.ensemble import RandomForestRegressor\n"
      ],
      "metadata": {
        "id": "S_c-ESmf76eE"
      },
      "execution_count": 27,
      "outputs": []
    },
    {
      "cell_type": "code",
      "source": [
        "# 원본 데이터\n",
        "X_train, X_test, y_train, y_test = train_test_split(\n",
        "    cancer_std, cancer.target, stratify = cancer.target, random_state = 1018, test_size = 0.2\n",
        ")\n",
        "rfr1 = RandomForestRegressor(random_state = 1018)\n",
        "rfr1.fit(X_train, y_train)\n",
        "rfr1_score = rfr1.score(X_test, y_test)"
      ],
      "metadata": {
        "id": "FUvesq4G9Fga"
      },
      "execution_count": 37,
      "outputs": []
    },
    {
      "cell_type": "code",
      "source": [
        "# 2차원 차원축소\n",
        "X_train, X_test, y_train, y_test = train_test_split(\n",
        "    cancer_pca2, cancer.target, stratify = cancer.target, random_state = 1018, test_size = 0.2\n",
        ")\n",
        "rfr2 = RandomForestRegressor(random_state = 1018)\n",
        "rfr2.fit(X_train, y_train)\n",
        "rfr2_score = rfr2.score(X_test, y_test)"
      ],
      "metadata": {
        "id": "CAGI61HI9J4-"
      },
      "execution_count": 38,
      "outputs": []
    },
    {
      "cell_type": "code",
      "source": [
        "# 5차원 차원축소\n",
        "X_train, X_test, y_train, y_test = train_test_split(\n",
        "    cancer_pca5, cancer.target, stratify = cancer.target, random_state = 1018, test_size = 0.2\n",
        ")\n",
        "rfr3 = RandomForestRegressor(random_state = 1018)\n",
        "rfr3.fit(X_train, y_train)\n",
        "rfr3_score = rfr3.score(X_test, y_test)"
      ],
      "metadata": {
        "id": "gGeqSycF9Pqd"
      },
      "execution_count": 39,
      "outputs": []
    },
    {
      "cell_type": "code",
      "source": [
        "# 10차원 차원 축소\n",
        "X_train, X_test, y_train, y_test = train_test_split(\n",
        "    cancer_pca10, cancer.target, stratify = cancer.target, random_state = 1018, test_size = 0.2\n",
        ")\n",
        "rfr4 = RandomForestRegressor(random_state = 1018)\n",
        "rfr4.fit(X_train, y_train)\n",
        "rfr4_score = rfr4.score(X_test, y_test)"
      ],
      "metadata": {
        "id": "BY5hSuVi9QH-"
      },
      "execution_count": 40,
      "outputs": []
    },
    {
      "cell_type": "code",
      "source": [
        "print(\"원본\\t2차원\\t5차원\\t10차원\")\n",
        "print(f\"{rfr1_score:.3f}\\t{rfr2_score:.3f}\\t{rfr3_score:.3f}\\t{rfr4_score:.3f}\\t\")"
      ],
      "metadata": {
        "colab": {
          "base_uri": "https://localhost:8080/"
        },
        "id": "JKErsCug9rJq",
        "outputId": "09c7090d-dd56-4d05-d3b2-c932fe0e8307"
      },
      "execution_count": 44,
      "outputs": [
        {
          "output_type": "stream",
          "name": "stdout",
          "text": [
            "원본\t2차원\t5차원\t10차원\n",
            "0.883\t0.830\t0.915\t0.912\t\n"
          ]
        }
      ]
    },
    {
      "cell_type": "code",
      "source": [
        "from sklearn.cluster import KMeans\n",
        "kmean = KMeans(n_clusters = 2, random_state = 1018)\n",
        "kmean.fit_transform(cancer_pca2)\n",
        "kmean.labels_"
      ],
      "metadata": {
        "id": "8luYQHfZ-cRw"
      },
      "execution_count": null,
      "outputs": []
    },
    {
      "cell_type": "code",
      "source": [
        "df_k = pd.DataFrame({\n",
        "    \"PC1\" : cancer_pca2[:,0], \"PC2\" : cancer_pca2[:,1],\n",
        "     \"cluster\":kmean.labels_, \"target\" : cancer.target\n",
        "})"
      ],
      "metadata": {
        "id": "DTzH1fFa-cTm"
      },
      "execution_count": 61,
      "outputs": []
    },
    {
      "cell_type": "code",
      "source": [
        "plt.rcParams[\"figure.figsize\"] = (10,10)\n",
        "markers = [\"ob\",\"sc\"]\n",
        "for i, marker in enumerate(markers):\n",
        "  x_data = df_k[df_k[\"cluster\"] == i][\"PC1\"]\n",
        "  y_data = df_k[df_k[\"cluster\"] == i][\"PC2\"]\n",
        "  plt.scatter(x_data, y_data, marker = marker[:1], c = marker[1:2], label = f\"cluster{i}\")\n",
        "plt.legend()\n",
        "plt.xlabel(\"PCA1\"), plt.ylabel(\"PCA2\")\n",
        "plt.show()\n"
      ],
      "metadata": {
        "colab": {
          "base_uri": "https://localhost:8080/",
          "height": 605
        },
        "id": "bMvAbhKS-cVh",
        "outputId": "51d6692c-f758-49d5-eb44-8862c48348dc"
      },
      "execution_count": 116,
      "outputs": [
        {
          "output_type": "display_data",
          "data": {
            "text/plain": [
              "<Figure size 720x720 with 1 Axes>"
            ],
            "image/png": "[encoded data removed]"
          },
          "metadata": {
            "needs_background": "light"
          }
        }
      ]
    },
    {
      "cell_type": "code",
      "source": [
        "plt.figure(figsize=(20,8))\n",
        "markers = [\"og\",\"sy\"]\n",
        "\n",
        "for k, column in enumerate([\"target\",\"cluster\"]):\n",
        "  plt.subplot(1,2, k+1)\n",
        "  for i, marker in enumerate(markers):\n",
        "    x_data = df_k[df_k[column] == i][\"PC1\"]\n",
        "    y_data = df_k[df_k[column] == i][\"PC2\"]\n",
        "    if k ==0:\n",
        "      plt.title(\"Original Data\", fontsize = 15)\n",
        "      plt.scatter(x_data, y_data, marker = marker[:1], c = marker[1:2], label = cancer.target_names[i])\n",
        "    else : \n",
        "      plt.title(\"Cluster Data\", fontsize = 15)\n",
        "      plt.scatter(x_data, y_data, marker = marker[:1], c = marker[1:2], label = \"cluster\" + str(i))\n",
        "  plt.legend()\n",
        "  plt.xlabel(\"PCA Component1\"), plt.ylabel(\"PCA Component1\")\n",
        "plt.show()\n"
      ],
      "metadata": {
        "colab": {
          "base_uri": "https://localhost:8080/",
          "height": 514
        },
        "id": "2ZUPQGAZBmV8",
        "outputId": "bbbc8c98-79ab-445a-d1b1-fadeb2f4963a"
      },
      "execution_count": 118,
      "outputs": [
        {
          "output_type": "display_data",
          "data": {
            "text/plain": [
              "<Figure size 1440x576 with 2 Axes>"
            ],
            "image/png": "[encoded data removed]"
          },
          "metadata": {
            "needs_background": "light"
          }
        }
      ]
    },
    {
      "cell_type": "code",
      "source": [
        ""
      ],
      "metadata": {
        "id": "HdK39nowDSC1"
      },
      "execution_count": null,
      "outputs": []
    }
  ]
}