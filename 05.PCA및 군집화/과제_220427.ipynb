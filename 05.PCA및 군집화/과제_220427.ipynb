{
  "nbformat": 4,
  "nbformat_minor": 0,
  "metadata": {
    "colab": {
      "name": "과제 220427.ipynb",
      "provenance": [],
      "collapsed_sections": []
    },
    "kernelspec": {
      "name": "python3",
      "display_name": "Python 3"
    },
    "language_info": {
      "name": "python"
    }
  },
  "cells": [
    {
      "cell_type": "markdown",
      "source": [
        "### 1. 당뇨병 데이터 - 다중회귀\n",
        "  - LR, SVR, RFR, XGR\n",
        "\n",
        "별도에 폴더에 본인이름.html 파일 두개를 만들어서 각각 제출"
      ],
      "metadata": {
        "id": "9tav-qMdyHru"
      }
    },
    {
      "cell_type": "code",
      "source": [
        "import pandas as pd\n",
        "import numpy as np\n",
        "from sklearn.datasets import load_diabetes\n",
        "from sklearn.model_selection import train_test_split\n",
        "\n",
        "dia = load_diabetes()\n",
        "from sklearn.model_selection import train_test_split\n",
        "X_train, X_test, y_train, y_test = train_test_split(\n",
        "    dia.data, dia.target, random_state = 1018, test_size = 0.2\n",
        ")"
      ],
      "metadata": {
        "id": "OKM7XdEtye_e"
      },
      "execution_count": 3,
      "outputs": []
    },
    {
      "cell_type": "code",
      "source": [
        "from sklearn.linear_model import LinearRegression\n",
        "lr = LinearRegression()\n",
        "lr.fit(X_train, y_train)\n",
        "lr_pred = lr.predict(X_test)"
      ],
      "metadata": {
        "id": "LUP6gTTDy_4p"
      },
      "execution_count": 12,
      "outputs": []
    },
    {
      "cell_type": "code",
      "source": [
        "from sklearn.svm import SVR\n",
        "svr = SVR()\n",
        "svr.fit(X_train, y_train)\n",
        "svr_pred = svr.predict(X_test)"
      ],
      "metadata": {
        "id": "RtKebrz80kJA"
      },
      "execution_count": 13,
      "outputs": []
    },
    {
      "cell_type": "code",
      "source": [
        "from sklearn.ensemble import RandomForestRegressor\n",
        "rfr = RandomForestRegressor()\n",
        "rfr.fit(X_train, y_train)\n",
        "rfr_pred = rfr.predict(X_test)"
      ],
      "metadata": {
        "id": "UqGD0Hc11NgX"
      },
      "execution_count": 14,
      "outputs": []
    },
    {
      "cell_type": "code",
      "source": [
        "from xgboost import XGBRegressor\n",
        "xgb = XGBRegressor()\n",
        "xgb.fit(X_train, y_train)\n",
        "xgb_pred = xgb.predict(X_test)"
      ],
      "metadata": {
        "colab": {
          "base_uri": "https://localhost:8080/"
        },
        "id": "7cWkYEtb1S-J",
        "outputId": "910c20ac-4b44-4546-b93f-8789cdb4347e"
      },
      "execution_count": 15,
      "outputs": [
        {
          "output_type": "stream",
          "name": "stdout",
          "text": [
            "[07:09:27] WARNING: /workspace/src/objective/regression_obj.cu:152: reg:linear is now deprecated in favor of reg:squarederror.\n"
          ]
        }
      ]
    },
    {
      "cell_type": "code",
      "source": [
        "from sklearn.metrics import r2_score, mean_squared_error"
      ],
      "metadata": {
        "id": "hf4NXOLW1s1R"
      },
      "execution_count": 16,
      "outputs": []
    },
    {
      "cell_type": "code",
      "source": [
        "\n",
        "print(f\"lr  -> r2 : {r2_score(lr_pred, y_test)}\\tmse : {mean_squared_error(lr_pred, y_test)}\")\n",
        "print(f\"svm -> r2 : {r2_score(svr_pred, y_test)}\\tmse : {mean_squared_error(svr_pred, y_test)}\")\n",
        "print(f\"rfr -> r2 : {r2_score(rfr_pred, y_test)}\\tmse : {mean_squared_error(rfr_pred, y_test)}\")\n",
        "print(f\"xgb -> r2 : {r2_score(xgb_pred, y_test)}\\tmse : {mean_squared_error(xgb_pred, y_test)}\")\n"
      ],
      "metadata": {
        "colab": {
          "base_uri": "https://localhost:8080/"
        },
        "id": "dmeDMRAa11e3",
        "outputId": "e7b89db2-a4ba-4af1-b804-99c76a453908"
      },
      "execution_count": 31,
      "outputs": [
        {
          "output_type": "stream",
          "name": "stdout",
          "text": [
            "lr  -> r2 : -0.2504438253668684\tmse : 3999.5701249394224\n",
            "svm -> r2 : -32.569020669350444\tmse : 5905.370389037729\n",
            "rfr -> r2 : -0.2863948175033608\tmse : 4033.018880898876\n",
            "xgb -> r2 : -0.2287298749845572\tmse : 4174.542445729693\n"
          ]
        }
      ]
    },
    {
      "cell_type": "code",
      "source": [
        ""
      ],
      "metadata": {
        "id": "08IaOM2v2nfw"
      },
      "execution_count": null,
      "outputs": []
    }
  ]
}