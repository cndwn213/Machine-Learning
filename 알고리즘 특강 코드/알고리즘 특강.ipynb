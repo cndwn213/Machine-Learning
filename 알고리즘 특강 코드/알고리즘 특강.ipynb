{
 "cells": [
  {
   "cell_type": "code",
   "execution_count": 12,
   "id": "c4027819",
   "metadata": {},
   "outputs": [
    {
     "name": "stdout",
     "output_type": "stream",
     "text": [
      "[1, 1, 2, 2, 2, 2, 2, 3, 3, 3, 4, 4, 4, 12, 23, 23, 25, 43, 43, 43, 51, 213]\n"
     ]
    }
   ],
   "source": [
    "# 삽입정렬\n",
    "\n",
    "array = [4,23,5,2,34,25,34]\n",
    "\n",
    "for i in range(1, len(array)):\n",
    "    for j in range(i,0, -1): # 인덱스 i부터 1씩 감소하며 반복하는 문법\n",
    "        if array[j] < array[j-1]: # 왼쪽의 인덱스의 수와 비교\n",
    "            array[j], array[j-1] = array[j-1], array[j] # 더 작다면 왼쪽에 머문다\n",
    "        else : # 같거나 더 크다면 오른쪽에 머문다\n",
    "            break\n",
    "print(array)"
   ]
  },
  {
   "cell_type": "code",
   "execution_count": 11,
   "id": "d0ebfe59",
   "metadata": {},
   "outputs": [
    {
     "name": "stdout",
     "output_type": "stream",
     "text": [
      "[1, 1, 2, 2, 2, 2, 2, 3, 3, 3, 4, 4, 4, 12, 23, 23, 25, 43, 43, 43, 51, 213]\n"
     ]
    }
   ],
   "source": [
    "# 퀵 정렬\n",
    "\n",
    "array = [5,7,9,0,3,1,6,24,8]\n",
    "\n",
    "def quick_sort1(array, start, end):\n",
    "    if start >= end: # 원소가 1개인 경우 종료\n",
    "        return\n",
    "    pivot = start # 피벗은 첫번째 운소\n",
    "    left = start + 1\n",
    "    right = end\n",
    "    while(left<= right) :\n",
    "        # 피벗보다 큰 데이터를 찾을 때까지 반복\n",
    "        while(left <= end and array[left] <= array[pivot]):\n",
    "            left+=1\n",
    "        # 피벗보다 작은 데이터를 찾을 때까지 반복\n",
    "        while(right > start and array[right] >= array[pivot]):\n",
    "            right -= 1\n",
    "        if(left>right): # 엇갈렸다면 작은 데이터와 피벗을 교체\n",
    "            array[right], array[pivot] = array[pivot], array[right]\n",
    "        else :  # 엇갈리지 않았다면 작은데이터와 큰 데이터를 교체\n",
    "            array[right], array[left] = array[left], array[right]\n",
    "    # 분할 이후 왼쪽 부분과 오른쪽 부분에서 각각 정렬 수행\n",
    "    quick_sort1(array, start, right - 1)\n",
    "    quick_sort1(array, right + 1, end)\n",
    "quick_sort1(array,0, len(array) - 1)\n",
    "print(array)"
   ]
  },
  {
   "cell_type": "code",
   "execution_count": 10,
   "id": "eef4ffa3",
   "metadata": {},
   "outputs": [
    {
     "name": "stdout",
     "output_type": "stream",
     "text": [
      "[1, 1, 2, 2, 2, 2, 2, 3, 3, 3, 4, 4, 4, 12, 23, 23, 25, 43, 43, 43, 51, 213]\n"
     ]
    }
   ],
   "source": [
    "array1 = [4,2351,232,32,45,3532,423,35,54,3,7,5]\n",
    "\n",
    "def quick_sort2(array):\n",
    "    if len(array) <= 1:\n",
    "        return array\n",
    "    pivot = array[0]\n",
    "    tail = array[1:]\n",
    "    \n",
    "    left_side = [v for v in tail if v <= pivot]\n",
    "    right_side = [v for v in tail if v > pivot]\n",
    "    \n",
    "    return quick_sort2(left_side) + [pivot] + quick_sort2(right_side) \n",
    "print(quick_sort2(array))"
   ]
  },
  {
   "cell_type": "code",
   "execution_count": 9,
   "id": "39fd4638",
   "metadata": {
    "scrolled": true
   },
   "outputs": [
    {
     "data": {
      "text/plain": [
       "[1, 1, 2, 2, 2, 2, 2, 3, 3, 3, 4, 4, 4, 12, 23, 23, 25, 43, 43, 43, 51, 213]"
      ]
     },
     "execution_count": 9,
     "metadata": {},
     "output_type": "execute_result"
    }
   ],
   "source": [
    "# 계수정렬\n",
    "\n",
    "array = [2,3,4,2,51,3,43,25,23,43,43,2,2,213,12,4,1,2,23,1,3,4]\n",
    "count = [0] * (max(array)+1)\n",
    "array2 = []\n",
    "for i in range(len(array)):\n",
    "    count[array[i]] += 1\n",
    "for i in range(len(count)):\n",
    "    for j in range(count[i]):\n",
    "        array2.append(i)\n",
    "array2"
   ]
  },
  {
   "cell_type": "code",
   "execution_count": 5,
   "id": "d26ebe87",
   "metadata": {},
   "outputs": [
    {
     "name": "stdout",
     "output_type": "stream",
     "text": [
      "1000000 1000000\n"
     ]
    },
    {
     "data": {
      "text/plain": [
       "749665929108"
      ]
     },
     "execution_count": 5,
     "metadata": {},
     "output_type": "execute_result"
    }
   ],
   "source": [
    "import random\n",
    "n, k = map(int, input().split())\n",
    "a = [random.randint(1, 1000000) for i in range(n)]\n",
    "b = [random.randint(1, 1000000) for i in range(n)]\n",
    "\n",
    "a.sort()\n",
    "b.sort(reverse = True)\n",
    "\n",
    "for i in range(k):\n",
    "    if a[i] < b[i]:\n",
    "        a[i], b[i] = b[i], a[i]\n",
    "    elif a[i] >= b[i]:\n",
    "        break\n",
    "sum(a)"
   ]
  },
  {
   "cell_type": "code",
   "execution_count": 17,
   "id": "1233dcfb",
   "metadata": {},
   "outputs": [
    {
     "name": "stdout",
     "output_type": "stream",
     "text": [
      "1000 0000\n"
     ]
    },
    {
     "data": {
      "text/plain": [
       "['1000', '0000']"
      ]
     },
     "execution_count": 17,
     "metadata": {},
     "output_type": "execute_result"
    }
   ],
   "source": []
  },
  {
   "cell_type": "code",
   "execution_count": 9,
   "id": "e5c2c07f",
   "metadata": {},
   "outputs": [
    {
     "name": "stdout",
     "output_type": "stream",
     "text": [
      "1 2 3 8 7 4 5 6 "
     ]
    }
   ],
   "source": [
    "# BFS 예시\n",
    "from collections import deque\n",
    "\n",
    "def bfs(graph, start, visited):\n",
    "    #쿠 ( queue ) 구현을 위해 deque 라이브러리 사용\n",
    "    queue = deque([start])\n",
    "    # 현재 노드를 방문 처리\n",
    "    visited[start] = True\n",
    "    #큐가 빌 때까지 반복\n",
    "    while queue:\n",
    "        # 큐에서 하나의 원소를 뽑아 출력하기\n",
    "        v = queue.popleft()\n",
    "        print(v, end = ' ')\n",
    "        # 아직 방문하지 않은 인접한 원소들을 큐에 삽입\n",
    "        for i in graph[v]:\n",
    "            if not visited[i]:\n",
    "                queue.append(i)\n",
    "                visited[i] = True\n",
    "\n",
    "graph = [[],\n",
    "        [2,3,8],\n",
    "         [1,7],\n",
    "         [1,4,5],\n",
    "         [3,5],\n",
    "         [3,4],\n",
    "         [7],\n",
    "         [2,6,8],\n",
    "         [1,7]\n",
    "        ]\n",
    "\n",
    "visited = [False] * 9\n",
    "\n",
    "bfs(graph, 1, visited)"
   ]
  },
  {
   "cell_type": "code",
   "execution_count": 12,
   "id": "3b87c12e",
   "metadata": {},
   "outputs": [
    {
     "name": "stdout",
     "output_type": "stream",
     "text": [
      "10 15\n",
      "1 0 0 0 0 0 0 0 0 0 0 0 0 0 0\n"
     ]
    },
    {
     "ename": "ValueError",
     "evalue": "invalid literal for int() with base 10: ' '",
     "output_type": "error",
     "traceback": [
      "\u001b[1;31m---------------------------------------------------------------------------\u001b[0m",
      "\u001b[1;31mValueError\u001b[0m                                Traceback (most recent call last)",
      "Input \u001b[1;32mIn [12]\u001b[0m, in \u001b[0;36m<cell line: 34>\u001b[1;34m()\u001b[0m\n\u001b[0;32m     33\u001b[0m graph \u001b[38;5;241m=\u001b[39m []\n\u001b[0;32m     34\u001b[0m \u001b[38;5;28;01mfor\u001b[39;00m i \u001b[38;5;129;01min\u001b[39;00m \u001b[38;5;28mrange\u001b[39m(n) : \n\u001b[1;32m---> 35\u001b[0m     graph\u001b[38;5;241m.\u001b[39mappend(\u001b[38;5;28;43mlist\u001b[39;49m\u001b[43m(\u001b[49m\u001b[38;5;28;43mmap\u001b[39;49m\u001b[43m(\u001b[49m\u001b[38;5;28;43mint\u001b[39;49m\u001b[43m,\u001b[49m\u001b[43m \u001b[49m\u001b[38;5;28;43minput\u001b[39;49m\u001b[43m(\u001b[49m\u001b[43m)\u001b[49m\u001b[43m)\u001b[49m\u001b[43m)\u001b[49m)\n\u001b[0;32m     37\u001b[0m \u001b[38;5;66;03m# 이동할 네가지 방향 정의 (상,하,좌,우)\u001b[39;00m\n\u001b[0;32m     39\u001b[0m dx \u001b[38;5;241m=\u001b[39m [\u001b[38;5;241m-\u001b[39m\u001b[38;5;241m1\u001b[39m,\u001b[38;5;241m1\u001b[39m,\u001b[38;5;241m0\u001b[39m,\u001b[38;5;241m0\u001b[39m]\n",
      "\u001b[1;31mValueError\u001b[0m: invalid literal for int() with base 10: ' '"
     ]
    }
   ],
   "source": [
    "# 미로탈출 답안예시\n",
    "\n",
    "#BFS 코드 구현\n",
    "from collections import deque\n",
    "\n",
    "#큐(Queue)구현을 위해 deque 라이브러리 사용\n",
    "def bfs(x,y):\n",
    "    queue = deque()\n",
    "    queue.append((x,y))\n",
    "    # 큐가 빌 때까지 반복\n",
    "    while queue:\n",
    "        x, y = queue.popleft()\n",
    "        # 현재 위치에서 4가지 방향으로의 위치 확인\n",
    "        for i in range(4):\n",
    "            nx = x + dx[i]\n",
    "            ny = y + dy[i]\n",
    "            # 미로찾기 공간을 벗어난 경우 무시\n",
    "            if nx < 0 or nx >= n or ny < 0 or ny >=m :\n",
    "                continue\n",
    "            # 벽인 경우 무시\n",
    "            if graph[nx][ny] == 0:\n",
    "                continue\n",
    "            # 해당 노드를 처음 방문하는 경우에만 최단거리 기록\n",
    "            if graph[nx][ny] == 1:\n",
    "                graph[nx][ny] = graph[x][y] + 1\n",
    "                queue.append((nx,ny))\n",
    "    # 가장 오른쪽 아래까지의 최단 거리 반환\n",
    "    return graph[n - 1][m - 1]\n",
    "\n",
    "# N, M 을 공백을 기준으로 구분하여 입력 받기\n",
    "n, m = map(int, input().split())\n",
    "# 2차원 리스트의 맵 정보 입력 받기\n",
    "graph = []\n",
    "for i in range(n) : \n",
    "    graph.append(list(map(int, input())))\n",
    "    \n",
    "# 이동할 네가지 방향 정의 (상,하,좌,우)\n",
    "\n",
    "dx = [-1,1,0,0]\n",
    "dy = [0,0,-1,1]\n",
    "\n",
    "# BFS를 수행한 결과 출력\n",
    "print(bfs(0,0))"
   ]
  },
  {
   "cell_type": "code",
   "execution_count": 24,
   "id": "4a3ddfa5",
   "metadata": {},
   "outputs": [
    {
     "name": "stdout",
     "output_type": "stream",
     "text": [
      "[1, 2, 3, 5, 12, 23, 24, 24, 25, 32, 41, 42, 51, 58, 2423, 2525, 241124, 3683473]\n",
      "<class 'list'>\n"
     ]
    }
   ],
   "source": [
    "# heap 라이브러리 사용 예제 : 최소 힙\n",
    "# 정렬 수행 가능\n",
    "import heapq\n",
    "\n",
    "def heapsort(iterable):\n",
    "    h = []\n",
    "    result = []\n",
    "    for value in iterable:\n",
    "        heapq.heappush(h, value)\n",
    "    for i in range(len(h)):\n",
    "        result.append(heapq.heappop(h))\n",
    "    return result\n",
    "\n",
    "result= heapsort([23,41,25,42,241124,2423,24,51,24,12,2525,1,2,3,58,5,3683473,32])\n",
    "print(result)\n",
    "print(type(result))\n"
   ]
  },
  {
   "cell_type": "code",
   "execution_count": 25,
   "id": "7f28361e",
   "metadata": {},
   "outputs": [
    {
     "name": "stdout",
     "output_type": "stream",
     "text": [
      "[3683473, 241124, 2525, 2423, 58, 51, 42, 41, 32, 25, 24, 24, 23, 12, 5, 3, 2, 1]\n",
      "<class 'list'>\n"
     ]
    }
   ],
   "source": [
    "# heap 라이브러리 사용 예제 : 최대 힙\n",
    "# 정렬 수행 가능\n",
    "import heapq\n",
    "\n",
    "def heapsort(iterable):\n",
    "    h = []\n",
    "    result = []\n",
    "    for value in iterable:\n",
    "        # iterable의 데이터에 - 를 붙여 순서 반전 시키고\n",
    "        heapq.heappush(h, -value)\n",
    "    for i in range(len(h)):\n",
    "        # 여기서 다시 - 를 붙여 원래 부호로 돌아온다\n",
    "        result.append(-heapq.heappop(h))\n",
    "    return result\n",
    "\n",
    "result= heapsort([23,41,25,42,241124,2423,24,51,24,12,2525,1,2,3,58,5,3683473,32])\n",
    "print(result)\n",
    "print(type(result))\n"
   ]
  },
  {
   "cell_type": "code",
   "execution_count": 4,
   "id": "7e962928",
   "metadata": {},
   "outputs": [],
   "source": [
    "import pandas as pd\n",
    "a = pd.Series([1,2,3,4,5], index = [\"a\",\"b\",\"c\",\"d\",'e'])"
   ]
  },
  {
   "cell_type": "code",
   "execution_count": 7,
   "id": "9f3dc4dd",
   "metadata": {},
   "outputs": [
    {
     "name": "stdout",
     "output_type": "stream",
     "text": [
      "10\n",
      "10\n",
      "1 2 10\n",
      "2 3 5\n",
      "3 4 18\n",
      "4 5 2\n",
      "5 6 11\n",
      "2 7 13\n",
      "4 2 10\n",
      "6 4 4\n",
      "5 3 3\n",
      "1 9 23\n",
      "INFINITY 10 15 33 35 46 23 INFINITY 23 INFINITY \n",
      "INFINITY 33 5 23 25 36 13 INFINITY INFINITY INFINITY \n",
      "INFINITY 28 23 18 20 31 41 INFINITY INFINITY INFINITY \n",
      "INFINITY 10 5 17 2 13 23 INFINITY INFINITY INFINITY \n",
      "INFINITY 25 3 15 17 11 38 INFINITY INFINITY INFINITY \n",
      "INFINITY 14 9 4 6 17 27 INFINITY INFINITY INFINITY \n",
      "INFINITY INFINITY INFINITY INFINITY INFINITY INFINITY INFINITY INFINITY INFINITY INFINITY \n",
      "INFINITY INFINITY INFINITY INFINITY INFINITY INFINITY INFINITY INFINITY INFINITY INFINITY \n",
      "INFINITY INFINITY INFINITY INFINITY INFINITY INFINITY INFINITY INFINITY INFINITY INFINITY \n",
      "INFINITY INFINITY INFINITY INFINITY INFINITY INFINITY INFINITY INFINITY INFINITY INFINITY \n"
     ]
    }
   ],
   "source": [
    "# 플로이드 워셜 알고리즘\n",
    "\n",
    "INF = int(1e9) # 무한을 의미하는 값으로 10억을 설정\n",
    "# 노드의 개수 및 간선의 개수 입력받기\n",
    "n = int(input())\n",
    "m = int(input())\n",
    "# 2차원 리스트를 만들고, 무한으로 초기화\n",
    "graph = [[INF] * (n+1) for i in range(n + 1)]\n",
    "# 자기 자신에서 자기 자신으로 가는 비용은 0 으로 초기화\n",
    "for a in range(1, n + 1):\n",
    "    for b in range(1, n + 1):\n",
    "        if a == b :\n",
    "            graph[a][b] == 0\n",
    "            \n",
    "# 각 간선에 대한 정보를 입력받아, 그 값으로 초기화\n",
    "for _ in range(m):\n",
    "    # A에서 B로 가는 비용은 C라고 설정\n",
    "    a, b, c = map(int, input().split())\n",
    "    graph[a][b] = c\n",
    "# 점화식에 따라 플로이드 워셜 알고리즘 수행\n",
    "for k in range(1, n+1):\n",
    "    for a in range(1, n+1):\n",
    "        for b in range(1, n+1):\n",
    "            graph[a][b] = min(graph[a][b], graph[a][k] + graph[k][b])\n",
    "\n",
    "# 수행된 결과를 출력\n",
    "for a in range(1, n+1):\n",
    "    for b in range(1, n+1):\n",
    "        # 도달할 수 없는 경우, 무한(INFINITY)라고 출력\n",
    "        if graph[a][b] == INF:\n",
    "            print(\"INFINITY\", end = \" \") \n",
    "        else :\n",
    "            print(graph[a][b], end = \" \")\n",
    "    print()"
   ]
  },
  {
   "cell_type": "code",
   "execution_count": 14,
   "id": "d2413e7d",
   "metadata": {},
   "outputs": [
    {
     "name": "stdout",
     "output_type": "stream",
     "text": [
      "5 7\n",
      "1 3 10\n",
      "2 3 5\n",
      "4 3 -7\n",
      "1 2 5\n",
      "5 3 4\n",
      "4 2 9\n",
      "1 5 3\n",
      "5\n",
      "7\n",
      "-1\n",
      "3\n"
     ]
    }
   ],
   "source": [
    "# 벨만 포드 알고리즘\n",
    "\n",
    "import sys\n",
    "\n",
    "INF = int(1e9) # 무한을 의미하는 값으로 10억을 설정\n",
    "\n",
    "def bf(start):\n",
    "    # 시작 노드에 대해 초기화\n",
    "    dist[start] = 0\n",
    "    # 전체 n번의 라운드(round)반복\n",
    "    for i in range(n):\n",
    "        #매 반복마다 \"모든 간선\"을 확인하며\n",
    "        for j in range(m):\n",
    "            cur = edges[j][0]\n",
    "            next_node = edges[j][1]\n",
    "            cost = edges[j][2]\n",
    "            # 현재 간선을 거쳐서 다른 노드로 이동하는 거리가 더 짧은 경우\n",
    "            if dist[cur] != INF and dist[next_node] > dist[cur] + cost:\n",
    "                dist[next_node] = dist[cur] + cost\n",
    "                # n번째 라운드에서도 값이 갱신된다면 음수 순환이 존재\n",
    "                if i == n -1:\n",
    "                    return True\n",
    "    return False\n",
    "\n",
    "\n",
    "# 노드와 간선의 개수 입력 받기\n",
    "n, m = map(int, input().split())\n",
    "# 모든 간선에 대한 정보를 담는 리스트 만들기\n",
    "edges = []\n",
    "# 최단 거리 테이블을 모두 무한으로 초기화\n",
    "dist = [INF] * (n + 1)\n",
    "# 모든 간선 정보를 입력받기\n",
    "for _ in range(m):\n",
    "    a, b, c = map(int, input().split())\n",
    "    # a번 노드에서 b번 노드로 가는 비용이 c 라는 의미\n",
    "    edges.append((a,b,c))\n",
    "\n",
    "# 벨만 포드 알고리즘을 수행\n",
    "negative_cicle = bf(1)\n",
    "\n",
    "if negative_cicle:\n",
    "    print(\"-1\")\n",
    "else : \n",
    "    # 1번 노드를 제외한 다른 모든 노드로 가기 위한 최단거리 출력\n",
    "    for i in range(2, n+ 1):\n",
    "        if dist[i] == INF:\n",
    "            print(\"-1\")\n",
    "        else :\n",
    "            print(dist[i])\n"
   ]
  },
  {
   "cell_type": "code",
   "execution_count": null,
   "id": "879ee4bd",
   "metadata": {},
   "outputs": [],
   "source": []
  },
  {
   "cell_type": "code",
   "execution_count": null,
   "id": "2db2bddc",
   "metadata": {},
   "outputs": [],
   "source": []
  },
  {
   "cell_type": "code",
   "execution_count": null,
   "id": "a202335b",
   "metadata": {},
   "outputs": [],
   "source": []
  },
  {
   "cell_type": "code",
   "execution_count": null,
   "id": "65ba4502",
   "metadata": {},
   "outputs": [],
   "source": []
  },
  {
   "cell_type": "code",
   "execution_count": null,
   "id": "94b53d3d",
   "metadata": {},
   "outputs": [],
   "source": []
  },
  {
   "cell_type": "code",
   "execution_count": null,
   "id": "d7bf1b59",
   "metadata": {},
   "outputs": [],
   "source": []
  },
  {
   "cell_type": "code",
   "execution_count": null,
   "id": "08e0f89f",
   "metadata": {},
   "outputs": [],
   "source": []
  },
  {
   "cell_type": "code",
   "execution_count": null,
   "id": "19ae7b33",
   "metadata": {},
   "outputs": [],
   "source": []
  },
  {
   "cell_type": "code",
   "execution_count": null,
   "id": "e16a4c83",
   "metadata": {},
   "outputs": [],
   "source": []
  },
  {
   "cell_type": "code",
   "execution_count": null,
   "id": "d2be8770",
   "metadata": {},
   "outputs": [],
   "source": []
  },
  {
   "cell_type": "code",
   "execution_count": null,
   "id": "0cdacec7",
   "metadata": {},
   "outputs": [],
   "source": []
  },
  {
   "cell_type": "code",
   "execution_count": null,
   "id": "af79052c",
   "metadata": {},
   "outputs": [],
   "source": []
  },
  {
   "cell_type": "code",
   "execution_count": null,
   "id": "46eb1eee",
   "metadata": {},
   "outputs": [],
   "source": []
  }
 ],
 "metadata": {
  "kernelspec": {
   "display_name": "Python 3 (ipykernel)",
   "language": "python",
   "name": "python3"
  },
  "language_info": {
   "codemirror_mode": {
    "name": "ipython",
    "version": 3
   },
   "file_extension": ".py",
   "mimetype": "text/x-python",
   "name": "python",
   "nbconvert_exporter": "python",
   "pygments_lexer": "ipython3",
   "version": "3.9.7"
  }
 },
 "nbformat": 4,
 "nbformat_minor": 5
}
